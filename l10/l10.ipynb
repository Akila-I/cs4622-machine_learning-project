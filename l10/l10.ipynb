{
 "cells": [
  {
   "cell_type": "code",
   "execution_count": 3,
   "metadata": {},
   "outputs": [
    {
     "name": "stderr",
     "output_type": "stream",
     "text": [
      "/home/akila-i/.pyenv/versions/3.9.9/envs/ml-py3.9/lib/python3.9/site-packages/sklearn/linear_model/_logistic.py:460: ConvergenceWarning: lbfgs failed to converge (status=1):\n",
      "STOP: TOTAL NO. of ITERATIONS REACHED LIMIT.\n",
      "\n",
      "Increase the number of iterations (max_iter) or scale the data as shown in:\n",
      "    https://scikit-learn.org/stable/modules/preprocessing.html\n",
      "Please also refer to the documentation for alternative solver options:\n",
      "    https://scikit-learn.org/stable/modules/linear_model.html#logistic-regression\n",
      "  n_iter_i = _check_optimize_result(\n"
     ]
    },
    {
     "name": "stdout",
     "output_type": "stream",
     "text": [
      "accuracy_score for label_1:  0.964\n",
      "accuracy_score for label_2:  0.9239130434782609\n",
      "accuracy_score for label_3:  1.0\n",
      "accuracy_score for label_4:  0.9813333333333333\n"
     ]
    }
   ],
   "source": [
    "# import libraries\n",
    "\n",
    "import pandas as pd\n",
    "import numpy as np\n",
    "\n",
    "from sklearn.svm import SVC\n",
    "from sklearn.linear_model import LogisticRegression\n",
    "from sklearn.neighbors import KNeighborsClassifier\n",
    "from sklearn.preprocessing import StandardScaler\n",
    "from sklearn.decomposition import PCA\n",
    "from sklearn.metrics import accuracy_score\n",
    "\n",
    "# create a list of feature names\n",
    "\n",
    "FEATURES = []\n",
    "for i in range(1, 769):\n",
    "  FEATURES.append('feature_' + str(i))\n",
    "# create a list of label names\n",
    "\n",
    "LABELS = ['label_1', 'label_2', 'label_3', 'label_4']\n",
    "\n",
    "# read the data\n",
    "\n",
    "df_train = pd.read_csv('../Dataset/layer_10_train.csv')\n",
    "df_valid = pd.read_csv('../Dataset/layer_10_valid.csv')\n",
    "df_test = pd.read_csv('../Dataset/layer_10_test.csv')\n",
    "\n",
    "# store the data in a dictionary for each label\n",
    "\n",
    "data_dict = dict()\n",
    "\n",
    "for label in LABELS:\n",
    "  data_dict[label] = dict()\n",
    "\n",
    "  data_dict[label]['x_train'] = df_train[df_train[label].notna()][FEATURES].values\n",
    "  data_dict[label]['y_train'] = df_train[df_train[label].notna()][label].values\n",
    "  data_dict[label]['x_valid'] = df_valid[df_valid[label].notna()][FEATURES].values\n",
    "  data_dict[label]['y_valid'] = df_valid[df_valid[label].notna()][label].values\n",
    "  data_dict[label]['x_test'] = df_test[FEATURES].values\n",
    "\n",
    "\n",
    "# create models for each label\n",
    "\n",
    "model_dict = dict()\n",
    "\n",
    "model_dict[LABELS[0]] = LogisticRegression(C=1)\n",
    "model_dict[LABELS[1]] = KNeighborsClassifier(n_neighbors = 1, p = 2)\n",
    "model_dict[LABELS[2]] = SVC(C = 100, kernel = 'rbf')\n",
    "model_dict[LABELS[3]] = SVC(C=100, kernel='rbf')\n",
    "\n",
    "df_test_pred = pd.DataFrame()\n",
    "\n",
    "for label in LABELS:\n",
    "\n",
    "  scaler = StandardScaler()\n",
    "  X_train_scaled = scaler.fit_transform(data_dict[label]['x_train'])\n",
    "  X_val_scaled = scaler.transform(data_dict[label]['x_valid'])\n",
    "  X_test_scaled = scaler.transform(data_dict[label]['x_test'])\n",
    "\n",
    "  # pca = PCA(n_components=0.98, svd_solver='full')\n",
    "  # X_train_pca = pca.fit_transform(X_train_scaled)\n",
    "  # X_val_pca = pca.transform(X_val_scaled)\n",
    "  # X_test_pca = pca.transform(X_test_scaled)\n",
    "\n",
    "  model_dict[label].fit(X_train_scaled, data_dict[label]['y_train'])\n",
    "  data_dict[label]['y_pred'] = model_dict[label].predict(X_val_scaled)\n",
    "  print('accuracy_score for {}: '.format(label), accuracy_score(data_dict[label]['y_valid'], data_dict[label]['y_pred']))\n",
    "\n",
    "  data_dict[label]['y_pred_test'] = model_dict[label].predict(X_test_scaled)\n",
    "  df_test_pred[label] = data_dict[label]['y_pred_test']\n",
    "\n",
    "  data_dict[label]['y_pred_train'] = model_dict[label].predict(X_train_scaled)\n",
    "\n",
    "  pd.DataFrame(data_dict[label]['y_pred_train']).to_csv('layer_10_train_pred_{}.csv'.format(label), index=False)\n"
   ]
  },
  {
   "cell_type": "code",
   "execution_count": 4,
   "metadata": {},
   "outputs": [
    {
     "name": "stdout",
     "output_type": "stream",
     "text": [
      "28520\n",
      "28040\n",
      "28520\n",
      "28520\n"
     ]
    }
   ],
   "source": [
    "print(len(data_dict['label_1']['y_pred_train']))\n",
    "print(len(data_dict['label_2']['y_pred_train']))\n",
    "print(len(data_dict['label_3']['y_pred_train']))\n",
    "print(len(data_dict['label_4']['y_pred_train']))\n"
   ]
  },
  {
   "cell_type": "code",
   "execution_count": null,
   "metadata": {},
   "outputs": [],
   "source": []
  }
 ],
 "metadata": {
  "kernelspec": {
   "display_name": "ml-py3.9",
   "language": "python",
   "name": "python3"
  },
  "language_info": {
   "codemirror_mode": {
    "name": "ipython",
    "version": 3
   },
   "file_extension": ".py",
   "mimetype": "text/x-python",
   "name": "python",
   "nbconvert_exporter": "python",
   "pygments_lexer": "ipython3",
   "version": "3.9.9"
  }
 },
 "nbformat": 4,
 "nbformat_minor": 2
}
