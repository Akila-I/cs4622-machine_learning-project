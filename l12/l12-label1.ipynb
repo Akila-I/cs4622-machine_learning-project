{
 "cells": [
  {
   "cell_type": "code",
   "execution_count": 1,
   "metadata": {},
   "outputs": [],
   "source": [
    "import pandas as pd\n",
    "import numpy as np\n",
    "import matplotlib.pyplot as plt\n",
    "from sklearn.preprocessing import StandardScaler, RobustScaler\n",
    "from sklearn.neighbors import KNeighborsClassifier\n",
    "from sklearn.linear_model import LogisticRegression\n",
    "from sklearn.ensemble import RandomForestClassifier\n",
    "from sklearn.naive_bayes import GaussianNB\n",
    "from sklearn.model_selection import cross_val_score\n",
    "from sklearn.metrics import accuracy_score\n",
    "from sklearn.svm import SVC\n",
    "from sklearn.decomposition import PCA\n",
    "import math\n",
    "import seaborn as sn\n",
    "import xgboost as xgb\n",
    "from imblearn.over_sampling import RandomOverSampler\n",
    "from sklearn import metrics\n",
    "from sklearn.calibration import LabelEncoder\n",
    "from catboost import CatBoostClassifier\n"
   ]
  },
  {
   "cell_type": "code",
   "execution_count": 2,
   "metadata": {},
   "outputs": [],
   "source": [
    "import warnings\n",
    "warnings.filterwarnings('ignore')\n"
   ]
  },
  {
   "cell_type": "code",
   "execution_count": 3,
   "metadata": {},
   "outputs": [],
   "source": [
    "train = pd.read_csv('train.csv')\n",
    "valid = pd.read_csv('valid.csv')\n",
    "test = pd.read_csv('test.csv')\n"
   ]
  },
  {
   "cell_type": "code",
   "execution_count": 4,
   "metadata": {},
   "outputs": [
    {
     "data": {
      "text/plain": [
       "feature_1        0\n",
       "feature_2        0\n",
       "feature_3        0\n",
       "feature_4        0\n",
       "feature_5        0\n",
       "              ... \n",
       "feature_768      0\n",
       "label_1          0\n",
       "label_2        480\n",
       "label_3          0\n",
       "label_4          0\n",
       "Length: 772, dtype: int64"
      ]
     },
     "execution_count": 4,
     "metadata": {},
     "output_type": "execute_result"
    }
   ],
   "source": [
    "train.isnull().sum()\n"
   ]
  },
  {
   "cell_type": "code",
   "execution_count": 4,
   "metadata": {},
   "outputs": [],
   "source": [
    "# Separate features and labels\n",
    "X_train = train.drop(['label_1', 'label_2', 'label_3', 'label_4'], axis=1)\n",
    "y_train = train[['label_1', 'label_2', 'label_3', 'label_4']]\n",
    "X_val = valid.drop(['label_1', 'label_2', 'label_3', 'label_4'], axis=1)\n",
    "y_val = valid[['label_1', 'label_2', 'label_3', 'label_4']]\n",
    "X_test = test.drop(['ID'], axis=1)\n"
   ]
  },
  {
   "cell_type": "code",
   "execution_count": 5,
   "metadata": {},
   "outputs": [],
   "source": [
    "scaler = StandardScaler()\n",
    "X_train_scaled = scaler.fit_transform(X_train)\n",
    "X_val_scaled = scaler.transform(X_val)\n",
    "X_test_scaled = scaler.transform(X_test)\n"
   ]
  },
  {
   "cell_type": "markdown",
   "metadata": {},
   "source": [
    "### Label_1"
   ]
  },
  {
   "cell_type": "code",
   "execution_count": null,
   "metadata": {},
   "outputs": [],
   "source": [
    "plt.figure(figsize=(18, 6))\n",
    "sn.countplot(data=y_train, x='label_1', color='teal')\n",
    "plt.xlabel('Speaker', fontsize=12)\n"
   ]
  },
  {
   "cell_type": "code",
   "execution_count": null,
   "metadata": {},
   "outputs": [],
   "source": [
    "len(y_train['label_1'].unique())\n"
   ]
  },
  {
   "cell_type": "code",
   "execution_count": null,
   "metadata": {},
   "outputs": [],
   "source": [
    "from sklearn.metrics import classification_report\n",
    "\n",
    "def get_score(model, X_train, y_train, X_val, y_val, verbose = False):\n",
    "    model.fit(X_train, y_train)\n",
    "    y_pred = model.predict(X_val)\n",
    "    if verbose:\n",
    "        print(classification_report(y_val, y_pred))\n",
    "\n",
    "    return accuracy_score(y_val, y_pred)\n"
   ]
  },
  {
   "cell_type": "code",
   "execution_count": 7,
   "metadata": {},
   "outputs": [],
   "source": [
    "pca = PCA(n_components=0.95, svd_solver = 'full')\n",
    "X_train_pca = pca.fit_transform(X_train_scaled)\n",
    "X_val_pca = pca.transform(X_val_scaled)\n",
    "X_test_pca = pca.transform(X_test_scaled)\n"
   ]
  },
  {
   "cell_type": "code",
   "execution_count": 6,
   "metadata": {},
   "outputs": [
    {
     "name": "stdout",
     "output_type": "stream",
     "text": [
      "Best Params {'C': 1500, 'gamma': 0.001, 'kernel': 'rbf'}\n",
      "Best CV Score 0.9354261662574535\n"
     ]
    }
   ],
   "source": [
    "from sklearn.experimental import enable_halving_search_cv\n",
    "from sklearn.model_selection import HalvingGridSearchCV\n",
    "\n",
    "halving_cv = HalvingGridSearchCV(SVC(), {\n",
    "    'C': [1, 10,100,1000,1500,2000],\n",
    "    'kernel': ['rbf'],\n",
    "    'gamma': ['scale','auto', 0.1, 0.01, 0.001]\n",
    "})\n",
    "halving_cv.fit(X_train_scaled, y_train['label_1'])\n",
    "\n",
    "print(\"Best Params\", halving_cv.best_params_)\n",
    "print(\"Best CV Score\", halving_cv.best_score_)\n"
   ]
  },
  {
   "cell_type": "code",
   "execution_count": null,
   "metadata": {},
   "outputs": [],
   "source": [
    "get_score(\n",
    "    KNeighborsClassifier(n_neighbors=10),\n",
    "    X_train_pca, y_train['label_3'],\n",
    "    X_val_pca, y_val['label_3'],\n",
    ")\n"
   ]
  },
  {
   "cell_type": "code",
   "execution_count": null,
   "metadata": {},
   "outputs": [],
   "source": [
    "cross_val_score(SVC(), X_train_pca, y_train['label_1'], cv=5, verbose=3).mean()\n"
   ]
  },
  {
   "cell_type": "code",
   "execution_count": null,
   "metadata": {},
   "outputs": [],
   "source": [
    "get_score(\n",
    "    RandomForestClassifier(n_estimators=100),\n",
    "    X_train_pca, y_train['label_1'],\n",
    "    X_val_pca, y_val['label_1']\n",
    ")\n"
   ]
  },
  {
   "cell_type": "code",
   "execution_count": null,
   "metadata": {},
   "outputs": [],
   "source": [
    "from xgboost import XGBClassifier\n",
    "\n",
    "\n",
    "get_score(\n",
    "    XGBClassifier(num_class=len(y_train['label_1'].unique()), tree_method='gpu_hist', gpu_id= 0),\n",
    "    X_train_pca, y_train['label_1']-1,\n",
    "    X_val_pca, y_val['label_1']-1\n",
    ")\n"
   ]
  },
  {
   "cell_type": "code",
   "execution_count": null,
   "metadata": {},
   "outputs": [],
   "source": [
    "from sklearn.ensemble import AdaBoostClassifier\n",
    "\n",
    "\n",
    "get_score(\n",
    "    AdaBoostClassifier(n_estimators=50,\n",
    "                         learning_rate=1),\n",
    "    X_train_pca, y_train['label_1'],\n",
    "    X_val_pca, y_val['label_1']\n",
    ")\n"
   ]
  },
  {
   "cell_type": "code",
   "execution_count": null,
   "metadata": {},
   "outputs": [],
   "source": [
    "corr_matrix = train.corr()\n",
    "label = 'label_1'\n",
    "label_col_id = corr_matrix.columns.get_loc(label)\n",
    "\n",
    "corr_with_label = corr_matrix.iloc[:, label_col_id]\n",
    "corr_fearures = corr_with_label[(corr_with_label.index != label) & (~corr_with_label.index.str.contains('label'))]\n",
    "corr_fearures.sort_values(ascending=False)\n"
   ]
  },
  {
   "cell_type": "code",
   "execution_count": null,
   "metadata": {},
   "outputs": [],
   "source": [
    "get_score(\n",
    "    CatBoostClassifier(loss_function='MultiClass', task_type=\"GPU\",\n",
    "                           devices='0:1'),\n",
    "    X_train_pca, y_train['label_1'],\n",
    "    X_val_pca, y_val['label_1']\n",
    ")\n"
   ]
  },
  {
   "cell_type": "code",
   "execution_count": null,
   "metadata": {},
   "outputs": [],
   "source": [
    "cross_val_score(\n",
    "    CatBoostClassifier(loss_function='MultiClass', task_type=\"GPU\", devices='0:1'\n",
    "                       , learning_rate = 0.15),\n",
    "    X_train, y_train['label_1'], cv=5\n",
    ").mean() * 100\n"
   ]
  },
  {
   "cell_type": "code",
   "execution_count": null,
   "metadata": {},
   "outputs": [],
   "source": [
    "cross_val_score(\n",
    "    RandomForestClassifier(n_estimators=100),\n",
    "    X_train, y_train['label_3'], cv=5\n",
    ").mean() * 100\n"
   ]
  },
  {
   "cell_type": "code",
   "execution_count": null,
   "metadata": {},
   "outputs": [],
   "source": [
    "cross_val_score(SVC(C=50), X_train_pca, y_train['label_1'], cv=5, verbose=3).mean()\n"
   ]
  },
  {
   "cell_type": "code",
   "execution_count": null,
   "metadata": {},
   "outputs": [],
   "source": [
    "best_model_layer1 = SVC(C=100)\n"
   ]
  },
  {
   "cell_type": "code",
   "execution_count": null,
   "metadata": {},
   "outputs": [],
   "source": [
    "get_score(\n",
    "    RandomForestClassifier(),\n",
    "    X_train, y_train['label_1'],\n",
    "    X_val, y_val['label_1']\n",
    ")\n"
   ]
  },
  {
   "cell_type": "code",
   "execution_count": null,
   "metadata": {},
   "outputs": [],
   "source": [
    "cross_val_score(\n",
    "    SVC(C=1000),\n",
    "    X_train_scaled, y_train['label_1'], cv=2, verbose=3 )\n"
   ]
  },
  {
   "cell_type": "code",
   "execution_count": 2,
   "metadata": {},
   "outputs": [],
   "source": [
    "from sklearn.pipeline import Pipeline\n",
    "from sklearn.preprocessing import StandardScaler\n",
    "from sklearn.decomposition import PCA\n",
    "from sklearn.svm import SVC\n",
    "import pandas as pd\n",
    "import numpy as np\n",
    "\n",
    "\n",
    "train = pd.read_csv('../Dataset/layer_12_train.csv')\n",
    "\n",
    "X_train = train.drop(['label_1', 'label_2', 'label_3', 'label_4'], axis=1)\n",
    "y_train = train[['label_1', 'label_2', 'label_3', 'label_4']]\n",
    "\n",
    "scaler = StandardScaler()\n",
    "pca = PCA(n_components=0.95, svd_solver = 'full')\n",
    "svc = SVC(C=1500, gamma=0.001, kernel='rbf')\n",
    "\n",
    "pipeline = Pipeline([\n",
    "    ('scaler', scaler),\n",
    "    ('pca', pca),\n",
    "    ('svc', svc)\n",
    "])\n",
    "\n",
    "pipeline.fit(X_train, y_train['label_1'])\n",
    "y_pred = pipeline.predict(X_train)\n"
   ]
  },
  {
   "cell_type": "code",
   "execution_count": 3,
   "metadata": {},
   "outputs": [],
   "source": [
    "pd.DataFrame(y_pred).to_csv('layer_12_train_label_1.csv', index=False)\n"
   ]
  },
  {
   "cell_type": "code",
   "execution_count": 1,
   "metadata": {},
   "outputs": [
    {
     "data": {
      "text/plain": [
       "(28040, 1)"
      ]
     },
     "execution_count": 1,
     "metadata": {},
     "output_type": "execute_result"
    }
   ],
   "source": [
    "from sklearn.pipeline import Pipeline\n",
    "from sklearn.preprocessing import StandardScaler\n",
    "from sklearn.decomposition import PCA\n",
    "from sklearn.svm import SVC\n",
    "import pandas as pd\n",
    "import numpy as np\n",
    "\n",
    "\n",
    "train = pd.read_csv('../Dataset/layer_12_train.csv')\n",
    "\n",
    "train_label_2 = train[train['label_2'].notna()]\n",
    "\n",
    "X_train = train_label_2.drop(['label_1', 'label_2', 'label_3', 'label_4'], axis=1)\n",
    "y_train = train_label_2[['label_1', 'label_2', 'label_3', 'label_4']]\n",
    "\n",
    "scaler = StandardScaler()\n",
    "pca = PCA(n_components=0.95, svd_solver = 'full')\n",
    "svc = SVC(C=100, gamma=0.001, kernel='rbf')\n",
    "\n",
    "pipeline = Pipeline([\n",
    "    ('scaler', scaler),\n",
    "    ('pca', pca),\n",
    "    ('svc', svc)\n",
    "])\n",
    "\n",
    "pipeline.fit(X_train, y_train['label_2'])\n",
    "y_pred = pipeline.predict(X_train)\n",
    "\n",
    "pd.DataFrame(y_pred).shape\n"
   ]
  },
  {
   "cell_type": "code",
   "execution_count": 2,
   "metadata": {},
   "outputs": [],
   "source": [
    "pd.DataFrame(y_pred).to_csv('layer_12_train_label_2.csv', index=False)\n"
   ]
  },
  {
   "cell_type": "code",
   "execution_count": 3,
   "metadata": {},
   "outputs": [
    {
     "data": {
      "text/plain": [
       "(28520, 1)"
      ]
     },
     "execution_count": 3,
     "metadata": {},
     "output_type": "execute_result"
    }
   ],
   "source": [
    "\n",
    "X_train = train.drop(['label_1', 'label_2', 'label_3', 'label_4'], axis=1)\n",
    "y_train = train[['label_1', 'label_2', 'label_3', 'label_4']]\n",
    "\n",
    "\n",
    "pipeline.fit(X_train, y_train['label_3'])\n",
    "y_pred = pipeline.predict(X_train)\n",
    "\n",
    "pd.DataFrame(y_pred).shape\n"
   ]
  },
  {
   "cell_type": "code",
   "execution_count": 4,
   "metadata": {},
   "outputs": [],
   "source": [
    "pd.DataFrame(y_pred).to_csv('layer_12_train_label_3.csv', index=False)\n"
   ]
  },
  {
   "cell_type": "code",
   "execution_count": 5,
   "metadata": {},
   "outputs": [
    {
     "data": {
      "text/plain": [
       "(28520, 1)"
      ]
     },
     "execution_count": 5,
     "metadata": {},
     "output_type": "execute_result"
    }
   ],
   "source": [
    "# SVC(C=1000, gamma='auto', class_weight='balanced')\n",
    "\n",
    "scaler = StandardScaler()\n",
    "pca = PCA(n_components=0.95, svd_solver = 'full')\n",
    "svc = SVC(C=1000, gamma='auto', class_weight='balanced')\n",
    "\n",
    "pipeline = Pipeline([\n",
    "    ('scaler', scaler),\n",
    "    ('pca', pca),\n",
    "    ('svc', svc)\n",
    "])\n",
    "\n",
    "pipeline.fit(X_train, y_train['label_4'])\n",
    "y_pred = pipeline.predict(X_train)\n",
    "\n",
    "pd.DataFrame(y_pred).shape\n"
   ]
  },
  {
   "cell_type": "code",
   "execution_count": 6,
   "metadata": {},
   "outputs": [],
   "source": [
    "pd.DataFrame(y_pred).to_csv('layer_12_train_label_4.csv', index=False)\n"
   ]
  },
  {
   "cell_type": "code",
   "execution_count": null,
   "metadata": {},
   "outputs": [],
   "source": []
  }
 ],
 "metadata": {
  "kernelspec": {
   "display_name": "mlproj",
   "language": "python",
   "name": "python3"
  },
  "language_info": {
   "codemirror_mode": {
    "name": "ipython",
    "version": 3
   },
   "file_extension": ".py",
   "mimetype": "text/x-python",
   "name": "python",
   "nbconvert_exporter": "python",
   "pygments_lexer": "ipython3",
   "version": "3.9.9"
  },
  "orig_nbformat": 4
 },
 "nbformat": 4,
 "nbformat_minor": 2
}
